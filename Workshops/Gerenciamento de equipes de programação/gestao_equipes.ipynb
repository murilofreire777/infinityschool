{
 "cells": [
  {
   "cell_type": "markdown",
   "id": "940dbdd7",
   "metadata": {},
   "source": [
    "# Palestra: Gestão de Equipes em Programação\n",
    "**Duração**: 2 horas (120 minutos)\n",
    "\n",
    "Esta palestra cobre os principais aspectos da gestão de equipes de desenvolvimento de software, desde papéis até métricas e ferramentas."
   ]
  },
  {
   "cell_type": "markdown",
   "id": "45c4e8a3",
   "metadata": {},
   "source": [
    "## Agenda\n",
    "\n",
    "1. Abertura & Objetivos (5 min)\n",
    "2. Papéis e Responsabilidades (10 min)\n",
    "3. Estilos de Liderança (10 min)\n",
    "4. Cultura de Equipe: Recrutamento e Onboarding (15 min)\n",
    "5. Comunicação e Colaboração (15 min)\n",
    "6. Metodologias Ágeis: Scrum na Prática (20 min)\n",
    "7. Resolução de Conflitos & Feedback (15 min)\n",
    "8. Métricas e Monitoramento de Desempenho (15 min)\n",
    "9. Ferramentas para Equipes Remotas/Distribuídas (10 min)\n",
    "10. Encerramento & Q&A (5 min)"
   ]
  },
  {
   "cell_type": "markdown",
   "id": "876b2eea",
   "metadata": {},
   "source": [
    "## 1. Abertura & Objetivos\n",
    "\n",
    "- Importância da gestão de equipes em projetos de software\n",
    "- Apresentação dos objetivos da palestra\n",
    "- Definição dos resultados esperados e dinâmica interativa"
   ]
  },
  {
   "cell_type": "markdown",
   "id": "172a1941",
   "metadata": {},
   "source": [
    "## 2. Papéis e Responsabilidades\n",
    "\n",
    "**Líder Técnico vs Gestor de Equipes**\n",
    "- Líder técnico: foco em decisões técnicas, mentoria de desenvolvedores\n",
    "- Gestor de equipes: foco em planejamento, alocação de recursos e desenvolvimento de pessoas\n",
    "\n",
    "**Papéis em Times Ágeis**\n",
    "- Product Owner (PO): definição de prioridades e visão do produto\n",
    "- Scrum Master (SM): remoção de impedimentos e facilitação de cerimônias\n",
    "- Desenvolvedores e QA: implementação e garantia de qualidade"
   ]
  },
  {
   "cell_type": "markdown",
   "id": "c80952e8",
   "metadata": {},
   "source": [
    "## 3. Estilos de Liderança\n",
    "\n",
    "- **Liderança Situacional**: adaptar o estilo conforme a maturidade e necessidades da equipe\n",
    "- **Liderança Servidora**: apoiar o time, remover obstáculos e promover o crescimento individual\n",
    "- **Liderança Delegativa**: conceder autonomia e responsabilidade, estimulando a proatividade\n",
    "\n",
    "*Discussão sobre impactos no engajamento e na autonomia do time*"
   ]
  },
  {
   "cell_type": "markdown",
   "id": "9aa66bc1",
   "metadata": {},
   "source": [
    "## 4. Cultura de Equipe: Recrutamento e Onboarding\n",
    "\n",
    "- **Atração de Talentos**: employer branding, descrições de vaga claras e inclusivas\n",
    "- **Processo de Seleção**: etapas técnicas e comportamentais, diversidade e viés inconsciente\n",
    "- **Integração (Onboarding)**: plano de 30 dias, mentorias e treinamentos iniciais para engajamento rápido"
   ]
  },
  {
   "cell_type": "markdown",
   "id": "ffa96523",
   "metadata": {},
   "source": [
    "## 5. Comunicação e Colaboração\n",
    "- **Reuniões Eficazes**: definição de agenda, tempo limitado e follow-up de ações\n",
    "- **Feedback Contínuo**: técnicas para dar e receber feedback construtivo\n",
    "- **Canais de Comunicação**: escolha de ferramentas (chat, e-mail, videoconferência) e boas práticas em comunicação assíncrona"
   ]
  },
  {
   "cell_type": "markdown",
   "id": "0b219793",
   "metadata": {},
   "source": [
    "## 6. Metodologias Ágeis: Scrum na Prática\n",
    "\n",
    "- **Scrum**:\n",
    "  - Cerimônias principais: Daily Stand-up, Sprint Planning, Sprint Review, Retrospective\n",
    "  - Artefatos: Product Backlog, Sprint Backlog, Increment\n",
    "  - Papéis e responsabilidades detalhadas no Scrum"
   ]
  },
  {
   "cell_type": "markdown",
   "id": "914d4aa4",
   "metadata": {},
   "source": [
    "## 7. Resolução de Conflitos & Feedback Construtivo\n",
    "\n",
    "- **Tipos de Conflito**: técnico, interpessoal e de prioridades\n",
    "- **Técnicas de Mediação**: escuta ativa, perguntas abertas e negociação\n",
    "- **Modelo Start/Stop/Continue**: estrutura simples para feedback claro e orientado a ações"
   ]
  },
  {
   "cell_type": "markdown",
   "id": "cd3817ea",
   "metadata": {},
   "source": [
    "## 8. Métricas e Monitoramento de Desempenho\n",
    "\n",
    "- **Métricas Quantitativas**: Lead Time, Cycle Time, Throughput e Burn-down Charts\n",
    "- **Métricas Qualitativas**: satisfação da equipe, clima organizacional e NPS interno\n",
    "- **One-on-One e Avaliações**: frequência, estrutura e criação de planos de desenvolvimento"
   ]
  },
  {
   "cell_type": "markdown",
   "id": "dac15024",
   "metadata": {},
   "source": [
    "## 9. Ferramentas para Equipes Remotas/Distribuídas\n",
    "\n",
    "- **Controle de Versão**: Git workflows (Git Flow, Trunk-Based) e boas práticas de branching\n",
    "- **Comunicação & Gestão de Tarefas**: Slack, Microsoft Teams, Jira, Trello\n",
    "- **Pair Programming Remoto**: VSCode Live Share, Code With Me e mob programming em vídeo"
   ]
  },
  {
   "cell_type": "markdown",
   "id": "240132cf",
   "metadata": {},
   "source": [
    "## 10. Encerramento & Q&A\n",
    "\n",
    "- Principais aprendizados e próximos passos\n",
    "- Espaço aberto para perguntas e discussões finais"
   ]
  }
 ],
 "metadata": {
  "language_info": {
   "name": "python"
  }
 },
 "nbformat": 4,
 "nbformat_minor": 5
}
