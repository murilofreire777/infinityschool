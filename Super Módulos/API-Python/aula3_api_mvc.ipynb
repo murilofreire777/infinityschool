{
 "cells": [
  {
   "cell_type": "markdown",
   "id": "5291c635",
   "metadata": {},
   "source": [
    "# Aula 3: Organização, Autenticação, Validação e MVC em APIs Python\n",
    "\n",
    "Nesta aula abordaremos:\n",
    "\n",
    "1. Organização do projeto\n",
    "2. Padrão MVC aplicado a APIs\n",
    "3. Autenticação de usuários\n",
    "4. Validação de dados de entrada\n",
    "5. Exemplo prático integrando tudo\n"
   ]
  },
  {
   "cell_type": "markdown",
   "id": "d2ad5e55",
   "metadata": {},
   "source": [
    "## 1. Organização do Projeto\n",
    "\n",
    "Uma boa organização facilita manutenção e escalabilidade. Estrutura recomendada:\n",
    "\n",
    "```\n",
    "my_api_project/\n",
    "├── app/\n",
    "│   ├── __init__.py        # Criação do app, configuração e registro de blueprints\n",
    "│   ├── config.py          # Configurações de ambiente (dev, prod)\n",
    "│   ├── models.py          # Definição de models (SQLAlchemy)\n",
    "│   ├── schemas.py         # Definição de schemas para validação (Marshmallow)\n",
    "│   ├── controllers/       # Lógica de rotas (controllers)\n",
    "│   │   ├── auth.py\n",
    "│   │   └── items.py\n",
    "│   └── extensions.py      # Instância de extensões (JWT, DB)\n",
    "├── migrations/            # Arquivos de migração de banco\n",
    "├── requirements.txt       # Dependências\n",
    "└── run.py                 # Ponto de entrada da aplicação\n",
    "```\n"
   ]
  },
  {
   "cell_type": "markdown",
   "id": "8defd2f8",
   "metadata": {},
   "source": [
    "## 2. Padrão MVC (Model-View-Controller)\n",
    "\n",
    "- **Model**: representa a camada de dados e regras de negócio (em `models.py`).\n",
    "- **View**: camada de apresentação (em APIs, templates ou JSON responses em controllers).\n",
    "- **Controller**: recebe requisições, invoca model e retorna response (blueprints em `controllers/`).\n",
    "\n",
    "Essa separação melhora legibilidade e permite testes isolados.\n"
   ]
  },
  {
   "cell_type": "markdown",
   "id": "f63ef7d3",
   "metadata": {},
   "source": [
    "## 3. Autenticação de Usuários\n",
    "\n",
    "Usaremos **JWT** (JSON Web Tokens) com a extensão `Flask-JWT-Extended`.\n",
    "\n",
    "```bash\n",
    "pip install Flask-JWT-Extended\n",
    "```\n"
   ]
  },
  {
   "cell_type": "code",
   "execution_count": null,
   "id": "69a9103d",
   "metadata": {},
   "outputs": [],
   "source": [
    "# app/extensions.py\n",
    "from flask_jwt_extended import JWTManager\n",
    "\n",
    "jwt = JWTManager()\n"
   ]
  },
  {
   "cell_type": "code",
   "execution_count": null,
   "id": "fcb8652a",
   "metadata": {},
   "outputs": [],
   "source": [
    "# app/__init__.py\n",
    "from flask import Flask\n",
    "from .extensions import jwt\n",
    "from .controllers.auth import auth_bp\n",
    "from .controllers.items import items_bp\n",
    "\n",
    "def create_app():\n",
    "    app = Flask(__name__)\n",
    "    app.config['JWT_SECRET_KEY'] = 'sua_chave_secreta_aqui'\n",
    "    jwt.init_app(app)\n",
    "    app.register_blueprint(auth_bp)\n",
    "    app.register_blueprint(items_bp)\n",
    "    return app\n"
   ]
  },
  {
   "cell_type": "markdown",
   "id": "0f74aa34",
   "metadata": {},
   "source": [
    "### 3.1. Rotas de Autenticação\n"
   ]
  },
  {
   "cell_type": "code",
   "execution_count": null,
   "id": "da4800ef",
   "metadata": {},
   "outputs": [],
   "source": [
    "# app/controllers/auth.py\n",
    "from flask import Blueprint, request, jsonify\n",
    "from werkzeug.security import check_password_hash, generate_password_hash\n",
    "from flask_jwt_extended import create_access_token\n",
    "\n",
    "auth_bp = Blueprint('auth', __name__, url_prefix='/auth')\n",
    "\n",
    "# Simulação de usuário em memória\n",
    "users = {\n",
    "    'murilo': {'password_hash': generate_password_hash('senha123')}\n",
    "}\n",
    "\n",
    "@auth_bp.route('/login', methods=['POST'])\n",
    "def login():\n",
    "    data = request.get_json()\n",
    "    username = data.get('username')\n",
    "    password = data.get('password')\n",
    "    user = users.get(username)\n",
    "\n",
    "    if not user or not check_password_hash(user['password_hash'], password):\n",
    "        return jsonify({'msg': 'Usuário ou senha inválidos'}), 401\n",
    "\n",
    "    access_token = create_access_token(identity=username)\n",
    "    return jsonify({'access_token': access_token}), 200\n"
   ]
  },
  {
   "cell_type": "markdown",
   "id": "afc5c73f",
   "metadata": {},
   "source": [
    "### 3.2. Protegendo Rotas com @jwt_required\n"
   ]
  },
  {
   "cell_type": "code",
   "execution_count": null,
   "id": "8e7a851b",
   "metadata": {},
   "outputs": [],
   "source": [
    "# app/controllers/items.py\n",
    "from flask import Blueprint, jsonify, request\n",
    "from flask_jwt_extended import jwt_required, get_jwt_identity\n",
    "\n",
    "items_bp = Blueprint('items', __name__, url_prefix='/items')\n",
    "\n",
    "@items_bp.route('', methods=['GET'])\n",
    "@jwt_required()\n",
    "def list_items():\n",
    "    current_user = get_jwt_identity()\n",
    "    # Retorna itens associados ao usuário\n",
    "    return jsonify({'user': current_user, 'items': ['Apple', 'Banana']}), 200\n"
   ]
  },
  {
   "cell_type": "markdown",
   "id": "a370773d",
   "metadata": {},
   "source": [
    "## 4. Validação de Dados de Entrada\n",
    "\n",
    "Usaremos **Marshmallow** para definir schemas e validar JSON.\n",
    "\n",
    "```bash\n",
    "pip install marshmallow\n",
    "```\n"
   ]
  },
  {
   "cell_type": "code",
   "execution_count": null,
   "id": "caac8aba",
   "metadata": {},
   "outputs": [],
   "source": [
    "# app/schemas.py\n",
    "from marshmallow import Schema, fields, validate, ValidationError\n",
    "\n",
    "class ItemSchema(Schema):\n",
    "    id = fields.Int(dump_only=True)\n",
    "    name = fields.Str(required=True, validate=validate.Length(min=1))\n",
    "    price = fields.Float(required=True)\n",
    "\n",
    "item_schema = ItemSchema()\n",
    "items_schema = ItemSchema(many=True)\n"
   ]
  },
  {
   "cell_type": "markdown",
   "id": "036a5440",
   "metadata": {},
   "source": [
    "### 4.1. Validação no Controller\n"
   ]
  },
  {
   "cell_type": "code",
   "execution_count": null,
   "id": "1d802872",
   "metadata": {},
   "outputs": [],
   "source": [
    "# Em app/controllers/items.py, adicione:\n",
    "from flask import request, jsonify\n",
    "from .schemas import item_schema, items_schema\n",
    "from marshmallow import ValidationError\n",
    "\n",
    "@items_bp.route('', methods=['POST'])\n",
    "@jwt_required()\n",
    "def create_item():\n",
    "    json_data = request.get_json()\n",
    "    try:\n",
    "        data = item_schema.load(json_data)\n",
    "    except ValidationError as err:\n",
    "        return jsonify(err.messages), 400\n",
    "    # Cria item com `data` validado...\n",
    "    item = {'id': 3, **data}\n",
    "    return jsonify(item), 201\n"
   ]
  },
  {
   "cell_type": "markdown",
   "id": "a371649c",
   "metadata": {},
   "source": [
    "## 5. Exemplo Prático Integrado\n",
    "\n",
    "**run.py**:\n",
    "```python\n",
    "from app import create_app\n",
    "\n",
    "app = create_app()\n",
    "\n",
    "if __name__ == '__main__':\n",
    "    app.run(debug=True)\n",
    "```\n",
    "\n",
    "Fluxo:\n",
    "1. **POST /auth/login** com `{ \"username\": \"murilo\", \"password\": \"senha123\" }` → retorna token.\n",
    "2. **POST /items** com header `Authorization: Bearer <token>` e JSON `{ \"name\": \"Laranja\", \"price\": 0.4 }` → valida e cria.\n",
    "3. **GET /items** com token → lista itens do usuário.\n",
    "\n",
    "Essa estrutura mostra MVC, autenticação JWT e validação de inputs.\n"
   ]
  }
 ],
 "metadata": {},
 "nbformat": 4,
 "nbformat_minor": 5
}
