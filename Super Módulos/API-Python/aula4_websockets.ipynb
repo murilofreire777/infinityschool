{
 "cells": [
  {
   "cell_type": "markdown",
   "id": "31d56374",
   "metadata": {},
   "source": [
    "# Aula 4: WebSockets em Python\n",
    "\n",
    "Bem-vindo à quarta aula do curso de APIs em Python. Hoje abordaremos comunicação em tempo real usando WebSockets:\n",
    "\n",
    "- O que são WebSockets e como diferem do HTTP\n",
    "- Protocolo de handshake e comunicação full-duplex\n",
    "- Biblioteca `websockets` em Python: servidor e cliente\n",
    "- Integração com Flask usando Flask-SocketIO\n",
    "- Exemplo prático: chat em tempo real\n",
    "- Gerenciamento de salas e broadcast\n",
    "- Tratamento de eventos e reconexão\n",
    "- Testando a aplicação"
   ]
  },
  {
   "cell_type": "markdown",
   "id": "bc782c79",
   "metadata": {},
   "source": [
    "## 1. Introdução aos WebSockets\n",
    "\n",
    "- WebSockets oferecem comunicação full-duplex sobre uma única conexão TCP.\n",
    "- Diferem do HTTP: após handshake, mantêm conexão aberta, permitindo envio de mensagens em tempo real entre cliente e servidor.\n",
    "- Ideal para chat, notificações em tempo real, dashboards ao vivo."
   ]
  },
  {
   "cell_type": "markdown",
   "id": "c8ec6cce",
   "metadata": {},
   "source": [
    "### Fluxo do Handshake\n",
    "\n",
    "1. Cliente envia requisição HTTP com `Upgrade: websocket`.\n",
    "2. Servidor responde com código `101 Switching Protocols`.\n",
    "3. A conexão é atualizada para protocolo WebSocket, iniciando comunicação bidirecional."
   ]
  },
  {
   "cell_type": "markdown",
   "id": "13f79bfb",
   "metadata": {},
   "source": [
    "## 2. Usando a biblioteca `websockets`\n",
    "\n",
    "Instalação:\n",
    "\n",
    "```bash\n",
    "pip install websockets\n",
    "```"
   ]
  },
  {
   "cell_type": "markdown",
   "id": "5455743d",
   "metadata": {},
   "source": [
    "### 2.1. Servidor WebSocket simples"
   ]
  },
  {
   "cell_type": "code",
   "execution_count": null,
   "id": "9742fc76",
   "metadata": {},
   "outputs": [],
   "source": [
    "import asyncio\n",
    "import websockets\n",
    "\n",
    "async def echo(websocket):\n",
    "    async for message in websocket:\n",
    "        print(f\"Recebido: {message}\")\n",
    "        await websocket.send(f\"Echo: {message}\")\n",
    "\n",
    "async def main():\n",
    "    # Aqui, serve() retorna um objeto de servidor dentro de um loop em execução\n",
    "    async with websockets.serve(echo, 'localhost', 8765):\n",
    "        print(\"Servidor WebSocket rodando em ws://localhost:8765\")\n",
    "        # Mantém o servidor ativo para sempre (ou até interrupção manual)\n",
    "        await asyncio.Future()\n",
    "\n",
    "if __name__ == \"__main__\":\n",
    "    # Cria o event loop, executa “main()” dentro dele e fecha ao final\n",
    "    asyncio.run(main())\n"
   ]
  },
  {
   "cell_type": "markdown",
   "id": "72aa340a",
   "metadata": {},
   "source": [
    "**Explicação**\n",
    "\n",
    "- `websockets.serve` cria servidor escutando na porta 8765.\n",
    "- Handler `echo` recebe mensagens e envia de volta.\n",
    "- `async for message`: mantém conexão lendo mensagens até desconexão."
   ]
  },
  {
   "cell_type": "markdown",
   "id": "be4be1fd",
   "metadata": {},
   "source": [
    "### 2.2. Cliente WebSocket simples"
   ]
  },
  {
   "cell_type": "code",
   "execution_count": null,
   "id": "9b55794e",
   "metadata": {},
   "outputs": [],
   "source": [
    "import asyncio\n",
    "import websockets\n",
    "\n",
    "async def hello():\n",
    "    uri = \"ws://localhost:8765\"\n",
    "    async with websockets.connect(uri) as websocket:\n",
    "        await websocket.send(\"Olá servidor!\")\n",
    "        response = await websocket.recv()\n",
    "        print(f\"Resposta: {response}\")\n",
    "\n",
    "if __name__ == \"__main__\":\n",
    "    asyncio.run(hello())"
   ]
  },
  {
   "cell_type": "markdown",
   "id": "ad2cfff0",
   "metadata": {},
   "source": [
    "## 3. Integração com Flask usando Flask-SocketIO\n",
    "\n",
    "Instalação:\n",
    "\n",
    "```bash\n",
    "pip install flask-socketio\n",
    "pip install eventlet  # backend assíncrono para produção\n",
    "```"
   ]
  },
  {
   "cell_type": "code",
   "execution_count": null,
   "id": "a82e88f2",
   "metadata": {},
   "outputs": [],
   "source": [
    "# app.py\n",
    "from flask import Flask, render_template\n",
    "from flask_socketio import SocketIO, send, emit, join_room, leave_room\n",
    "\n",
    "app = Flask(__name__)\n",
    "app.config['SECRET_KEY'] = 'chave_secreta'\n",
    "socketio = SocketIO(app, async_mode='eventlet')\n",
    "\n",
    "@app.route('/')\n",
    "def index():\n",
    "    return render_template('index.html')\n",
    "\n",
    "@socketio.on('message')\n",
    "def handle_message(msg):\n",
    "    print(f\"Mensagem recebida: {msg}\")\n",
    "    send(msg, broadcast=True)\n",
    "\n",
    "@socketio.on('join')\n",
    "def on_join(data):\n",
    "    room = data['room']\n",
    "    join_room(room)\n",
    "    send(f\"Entrou na sala {room}\", room=room)\n",
    "\n",
    "@socketio.on('leave')\n",
    "def on_leave(data):\n",
    "    room = data['room']\n",
    "    leave_room(room)\n",
    "    send(f\"Saiu da sala {room}\", room=room)\n",
    "\n",
    "if __name__ == '__main__':\n",
    "    socketio.run(app, host='0.0.0.0', port=5000)"
   ]
  },
  {
   "cell_type": "markdown",
   "id": "98fc572c",
   "metadata": {},
   "source": [
    "## 4. Exemplo prático de chat em tempo real\n",
    "\n",
    "Crie o arquivo `templates/index.html` com o cliente Socket.IO:"
   ]
  },
  {
   "cell_type": "markdown",
   "id": "d5520c58",
   "metadata": {},
   "source": [
    "```html\n",
    "<!DOCTYPE html>\n",
    "<html>\n",
    "<head>\n",
    "  <title>Chat em Tempo Real</title>\n",
    "</head>\n",
    "<body>\n",
    "  <ul id=\"messages\"></ul>\n",
    "  <input id=\"input\" autocomplete=\"off\"/><button id=\"send\">Enviar</button>\n",
    "  <script src=\"https://cdn.socket.io/4.5.0/socket.io.min.js\"></script>\n",
    "  <script>\n",
    "    const socket = io();\n",
    "    const input = document.getElementById('input');\n",
    "    document.getElementById('send').onclick = () => {\n",
    "      socket.send(input.value);\n",
    "      input.value = '';\n",
    "    };\n",
    "    socket.on('message', (msg) => {\n",
    "      const li = document.createElement('li');\n",
    "      li.textContent = msg;\n",
    "      document.getElementById('messages').append(li);\n",
    "    });\n",
    "  </script>\n",
    "</body>\n",
    "</html>\n",
    "```"
   ]
  },
  {
   "cell_type": "markdown",
   "id": "720e4a33",
   "metadata": {},
   "source": [
    "## 5. Gerenciamento de Salas e Broadcast\n",
    "\n",
    "- Use `join_room(room)` e `leave_room(room)` para gerenciar salas.\n",
    "- `send(..., room=room)` para enviar a um room específico.\n",
    "- `broadcast=True` envia para todos conectados."
   ]
  },
  {
   "cell_type": "markdown",
   "id": "4c69f5a4",
   "metadata": {},
   "source": [
    "## 6. Tratamento de Eventos e Reconexão\n",
    "\n",
    "- Defina eventos customizados: `@socketio.on('my_event')`.\n",
    "- Reconexão automática no cliente Socket.IO.\n",
    "- Adicione timeouts e heartbeats configuráveis."
   ]
  },
  {
   "cell_type": "markdown",
   "id": "9b60c5d5",
   "metadata": {},
   "source": [
    "## 7. Testando a Aplicação\n",
    "\n",
    "1. Inicie o servidor: `python app.py`.\n",
    "2. Abra `http://localhost:5000/` em várias abas para simular múltiplos clientes.\n",
    "3. Envie mensagens e veja atualização em tempo real.\n",
    "\n",
    "---\n",
    "\n",
    "Parabéns! Você agora domina WebSockets em Python e pode criar aplicações real-time."
   ]
  }
 ],
 "metadata": {
  "language_info": {
   "name": "python"
  }
 },
 "nbformat": 4,
 "nbformat_minor": 5
}
