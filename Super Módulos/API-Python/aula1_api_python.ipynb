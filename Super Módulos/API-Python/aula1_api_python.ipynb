{
 "cells": [
  {
   "cell_type": "markdown",
   "id": "a85d5f8b",
   "metadata": {},
   "source": [
    "# Aula 1: Introdução a APIs em Python\n",
    "\n",
    "Bem-vindo à primeira aula do curso de APIs em Python. Hoje abordaremos:\n",
    "\n",
    "- O que são APIs\n",
    "- Tipos de APIs\n",
    "- API REST\n",
    "- HTTP em relação às APIs\n",
    "- Biblioteca `requests` do Python com exemplos de código\n"
   ]
  },
  {
   "cell_type": "markdown",
   "id": "85a975ee",
   "metadata": {},
   "source": [
    "## O que são APIs\n",
    "\n",
    "APIs (Application Programming Interfaces) são interfaces que permitem a comunicação entre diferentes aplicações, sistemas ou componentes de software. Elas definem métodos, padrões e formatos de requisição e resposta para integrações programáticas, abstraindo complexidades internas e garantindo interoperabilidade."
   ]
  },
  {
   "cell_type": "markdown",
   "id": "899b2b5f",
   "metadata": {},
   "source": [
    "## Tipos de APIs\n",
    "\n",
    "1. **APIs Públicas**: disponíveis para qualquer desenvolvedor, muitas vezes com chaves de acesso ou autenticação básica. Exemplos: APIs de redes sociais (Twitter, Facebook), APIs de mapas (Google Maps).\n",
    "\n",
    "2. **APIs Privadas**: restritas a usuários ou sistemas internos de uma organização. Usadas para integrar microserviços dentro de uma empresa.\n",
    "\n",
    "3. **APIs REST**: seguem o estilo arquitetural REST, utilizando HTTP para operações CRUD em recursos identificados por URLs. São stateless e fáceis de usar.\n",
    "\n",
    "4. **APIs WebSockets**: permitem comunicação bidirecional em tempo real entre cliente e servidor, mantendo uma conexão persistente. Muito usadas em aplicações de chat, streaming e dashboards em tempo real."
   ]
  },
  {
   "cell_type": "markdown",
   "id": "07306964",
   "metadata": {},
   "source": [
    "## API REST\n",
    "\n",
    "REST (Representational State Transfer) é um estilo arquitetural para APIs Web que utiliza HTTP. Princípios-chave:\n",
    "\n",
    "- **Recursos**: representados por URLs únicas.\n",
    "- **Verbos HTTP**: GET (ler), POST (criar), PUT/PATCH (atualizar), DELETE (remover).\n",
    "- **Uniform Interface**: interface consistente para todos os recursos.\n",
    "- **Stateless**: cada requisição contém todas as informações necessárias.\n",
    "- **HATEOAS** (Hypermedia as the Engine of Application State): incluir links em respostas para navegação entre recursos.\n",
    "\n",
    "### Exemplos de boas práticas REST\n",
    "\n",
    "- URLs no plural: `/clientes`, `/pedidos`\n",
    "- Uso correto de códigos de status HTTP\n",
    "- Paginação, filtros e ordenação via parâmetros de query string"
   ]
  },
  {
   "cell_type": "markdown",
   "id": "bf83829e",
   "metadata": {},
   "source": [
    "## HTTP e APIs\n",
    "\n",
    "As APIs REST utilizam HTTP como protocolo de aplicação. Componentes principais:\n",
    "\n",
    "| Componente     | Descrição |\n",
    "| -------------- | --------- |\n",
    "| **Verbo HTTP** | Ação a ser executada (GET, POST, PUT, DELETE, PATCH) |\n",
    "| **URL/Endpoint** | Endereço do recurso |\n",
    "| **Headers**    | Metadados (Content-Type, Authorization, Accept) |\n",
    "| **Body**       | Dados enviados em requisições POST/PUT/PATCH |\n",
    "| **Status Code** | Código de resposta (200, 201, 400, 404, 500) |\n"
   ]
  },
  {
   "cell_type": "markdown",
   "id": "be703885",
   "metadata": {},
   "source": [
    "## Biblioteca `requests` em Python\n",
    "\n",
    "A biblioteca `requests` simplifica requisições HTTP em Python.\n",
    "\n",
    "Instalação:\n",
    "```bash\n",
    "pip install requests\n",
    "```"
   ]
  },
  {
   "cell_type": "markdown",
   "id": "2fb2d069",
   "metadata": {},
   "source": [
    "### Exemplo: Requisição GET com parâmetros"
   ]
  },
  {
   "cell_type": "code",
   "execution_count": 2,
   "id": "63d1359f",
   "metadata": {},
   "outputs": [
    {
     "name": "stdout",
     "output_type": "stream",
     "text": [
      "URL requisitada: https://httpbin.org/get?usuario=murilo&id=123\n",
      "Status Code: 200\n",
      "Resposta JSON: {'args': {'id': '123', 'usuario': 'murilo'}, 'headers': {'Accept': '*/*', 'Accept-Encoding': 'gzip, deflate', 'Host': 'httpbin.org', 'User-Agent': 'python-requests/2.32.3', 'X-Amzn-Trace-Id': 'Root=1-682225df-5cdd0ee3207a35514eb6cd03'}, 'origin': '177.148.119.47', 'url': 'https://httpbin.org/get?usuario=murilo&id=123'}\n"
     ]
    }
   ],
   "source": [
    "import requests\n",
    "\n",
    "params = {'usuario': 'murilo', 'id': 123}\n",
    "try:\n",
    "    response = requests.get('https://httpbin.org/get', params=params)\n",
    "    print(f\"URL requisitada: {response.url}\")\n",
    "    print(f\"Status Code: {response.status_code}\")\n",
    "    print(\"Resposta JSON:\", response.json())\n",
    "except requests.RequestException as e:\n",
    "    print(\"Erro na requisição GET:\", e)\n"
   ]
  },
  {
   "cell_type": "markdown",
   "id": "6cdf7c9a",
   "metadata": {},
   "source": [
    "### Exemplo: Requisição POST com JSON e Headers"
   ]
  },
  {
   "cell_type": "code",
   "execution_count": 3,
   "id": "965990c8",
   "metadata": {},
   "outputs": [
    {
     "name": "stdout",
     "output_type": "stream",
     "text": [
      "Status Code: 200\n",
      "Resposta JSON: {'args': {}, 'data': '{\"titulo\": \"API Test\", \"conteudo\": \"Ol\\\\u00e1 mundo\"}', 'files': {}, 'form': {}, 'headers': {'Accept': '*/*', 'Accept-Encoding': 'gzip, deflate', 'Authorization': 'Bearer TOKEN123', 'Content-Length': '52', 'Content-Type': 'application/json', 'Host': 'httpbin.org', 'User-Agent': 'python-requests/2.32.3', 'X-Amzn-Trace-Id': 'Root=1-68222603-61c6afb7304b1659569fa23b'}, 'json': {'conteudo': 'Olá mundo', 'titulo': 'API Test'}, 'origin': '177.148.119.47', 'url': 'https://httpbin.org/post'}\n"
     ]
    }
   ],
   "source": [
    "import requests\n",
    "import json\n",
    "\n",
    "url = 'https://httpbin.org/post'\n",
    "payload = {'titulo': 'API Test', 'conteudo': 'Olá mundo'}\n",
    "headers = {'Content-Type': 'application/json', 'Authorization': 'Bearer TOKEN123'}\n",
    "\n",
    "try:\n",
    "    response = requests.post(url, data=json.dumps(payload), headers=headers)\n",
    "    print(f\"Status Code: {response.status_code}\")\n",
    "    print(\"Resposta JSON:\", response.json())\n",
    "except requests.RequestException as e:\n",
    "    print(\"Erro na requisição POST:\", e)\n"
   ]
  },
  {
   "cell_type": "markdown",
   "id": "cd9be0e7",
   "metadata": {},
   "source": [
    "**Explicação do código:**\n",
    "\n",
    "- `params`: adiciona parâmetros na URL para GET.\n",
    "- `data=json.dumps(payload)`: envia JSON no corpo da requisição POST.\n",
    "- `headers`: define tipo de conteúdo e autenticação.\n",
    "- Tratamento de exceções com `RequestException`."
   ]
  }
 ],
 "metadata": {
  "kernelspec": {
   "display_name": ".venv",
   "language": "python",
   "name": "python3"
  },
  "language_info": {
   "codemirror_mode": {
    "name": "ipython",
    "version": 3
   },
   "file_extension": ".py",
   "mimetype": "text/x-python",
   "name": "python",
   "nbconvert_exporter": "python",
   "pygments_lexer": "ipython3",
   "version": "3.12.10"
  }
 },
 "nbformat": 4,
 "nbformat_minor": 5
}
